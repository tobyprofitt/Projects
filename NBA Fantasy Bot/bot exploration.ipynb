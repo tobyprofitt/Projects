{
 "cells": [
  {
   "cell_type": "code",
   "execution_count": 68,
   "metadata": {},
   "outputs": [
    {
     "data": {
      "text/plain": [
       "(235, b'2.7.0 Accepted')"
      ]
     },
     "execution_count": 68,
     "metadata": {},
     "output_type": "execute_result"
    }
   ],
   "source": [
    "# Generic packages\n",
    "import numpy as np\n",
    "import requests\n",
    "import pandas as pd\n",
    "import copy\n",
    "import datetime\n",
    "\n",
    "# Basketball package\n",
    "from espn_api.basketball import League\n",
    "\n",
    "# FB package\n",
    "import fbchat\n",
    "\n",
    "# email\n",
    "from email.mime.multipart import MIMEMultipart\n",
    "from email.mime.text import MIMEText\n",
    "\n",
    "import smtplib\n",
    "\n",
    "# set up the SMTP server\n",
    "s = smtplib.SMTP(host='smtp.gmail.com', port=587)\n",
    "s.starttls()\n",
    "s.login('dailyfantasybot@gmail.com', 'fantasyfellas')"
   ]
  },
  {
   "cell_type": "code",
   "execution_count": 70,
   "metadata": {},
   "outputs": [],
   "source": [
    "# constant variables\n",
    "SWID = '{C53D70DA-4087-40A6-B17E-92381F80A011}'\n",
    "ESPN_S2 = \"AEBwkPP4TglBo0Bevp1ODtJK%2B1xBcaq9LCvVPpF02qRu9DZP4GAk08HeGxTFpGhjH%2BBexBlqhfpo6Tad%2FNnpTPEX68CfLPSVoeVAUbo81qW7qo5PB2U0CFc8JzbrfBSI9pAgC98c9S6b2i30s1S1gEjt6ZNPuBBCngtefS%2BOQCKeBDuUsboM1dBVpi9YmHALaUGR0qV7Z8aVBT2vDM0bIabR1y%2F61Tx40K8o%2FIj54aW0REiij9B0MZxWLF%2FgxeBx84D9tfORhbxBsIOSMLUZfgsE\"\n",
    "LEAGUE = 55416621\n",
    "YEAR = 2022\n",
    "\n",
    "FB_USER = 'tobyprofitt@hotmail.com'\n",
    "FB_PASS = '788drummond'\n",
    "USER_AGENT = 'Mozilla/5.0 (Windows NT 10.0; Win64; x64) AppleWebKit/537.36 (KHTML, like Gecko) Chrome/96.0.4664.110 Safari/537.36'\n",
    "USER_AGENT2 = 'Mozilla/5.0 (Windows NT 10.0; WOW64; Trident/7.0; rv:11.0) like Gecko'\n",
    "\n",
    "PRO_TEAM_MAPPING =  {'ATL':1, 'BOS':2, 'NOP':3, 'CHI':4, 'CLE':5, 'DAL':6, 'DEN':7, 'DET':8, 'GSW':9, 'HOU':10, 'IND':11, 'LAC':12, 'LAL':13, 'MIA':14, 'MIL':15, \n",
    "'MIN':16, 'BKN':17, 'NYK':18, 'ORL':19, 'PHL':20, 'PHO':21, 'POR':22, 'SAC':23, 'SAS':24, 'OKC':25, 'UTA':26, 'WAS':27, 'TOR':28, 'MEM':29, 'CHA':30}\n",
    "PRO_TEAM_MAPPING_COPY = copy.copy(PRO_TEAM_MAPPING)\n",
    "for k, v in PRO_TEAM_MAPPING_COPY.items():\n",
    "    PRO_TEAM_MAPPING[v] = k\n",
    "\n",
    "email_jack   = 'Jack\\'s email'\n",
    "email_toby   = 'tobyprofitt1@gmail.com'\n",
    "email_cam    = 'Cam\\'s email'\n",
    "email_nick   = 0\n",
    "email_markey = 0\n",
    "email_mish   = 0"
   ]
  },
  {
   "cell_type": "code",
   "execution_count": 3,
   "metadata": {},
   "outputs": [
    {
     "data": {
      "text/html": [
       "<div>\n",
       "<style scoped>\n",
       "    .dataframe tbody tr th:only-of-type {\n",
       "        vertical-align: middle;\n",
       "    }\n",
       "\n",
       "    .dataframe tbody tr th {\n",
       "        vertical-align: top;\n",
       "    }\n",
       "\n",
       "    .dataframe thead th {\n",
       "        text-align: right;\n",
       "    }\n",
       "</style>\n",
       "<table border=\"1\" class=\"dataframe\">\n",
       "  <thead>\n",
       "    <tr style=\"text-align: right;\">\n",
       "      <th></th>\n",
       "      <th>PTS</th>\n",
       "      <th>BLK</th>\n",
       "      <th>STL</th>\n",
       "      <th>AST</th>\n",
       "      <th>REB</th>\n",
       "      <th>3PTM</th>\n",
       "      <th>FG%</th>\n",
       "      <th>FT%</th>\n",
       "      <th>TOT</th>\n",
       "      <th>GP</th>\n",
       "    </tr>\n",
       "  </thead>\n",
       "  <tbody>\n",
       "    <tr>\n",
       "      <th>Jack</th>\n",
       "      <td>6.0</td>\n",
       "      <td>5.0</td>\n",
       "      <td>3.0</td>\n",
       "      <td>5.0</td>\n",
       "      <td>5.0</td>\n",
       "      <td>4.0</td>\n",
       "      <td>2.0</td>\n",
       "      <td>3.0</td>\n",
       "      <td>33.0</td>\n",
       "      <td>341.0</td>\n",
       "    </tr>\n",
       "    <tr>\n",
       "      <th>Markey</th>\n",
       "      <td>1.0</td>\n",
       "      <td>6.0</td>\n",
       "      <td>6.0</td>\n",
       "      <td>6.0</td>\n",
       "      <td>6.0</td>\n",
       "      <td>1.0</td>\n",
       "      <td>6.0</td>\n",
       "      <td>1.0</td>\n",
       "      <td>33.0</td>\n",
       "      <td>316.0</td>\n",
       "    </tr>\n",
       "    <tr>\n",
       "      <th>Toby</th>\n",
       "      <td>5.0</td>\n",
       "      <td>3.0</td>\n",
       "      <td>4.0</td>\n",
       "      <td>1.0</td>\n",
       "      <td>4.0</td>\n",
       "      <td>5.0</td>\n",
       "      <td>4.0</td>\n",
       "      <td>6.0</td>\n",
       "      <td>32.0</td>\n",
       "      <td>335.0</td>\n",
       "    </tr>\n",
       "    <tr>\n",
       "      <th>Nick</th>\n",
       "      <td>4.0</td>\n",
       "      <td>2.0</td>\n",
       "      <td>5.0</td>\n",
       "      <td>4.0</td>\n",
       "      <td>1.0</td>\n",
       "      <td>6.0</td>\n",
       "      <td>1.0</td>\n",
       "      <td>4.0</td>\n",
       "      <td>27.0</td>\n",
       "      <td>322.0</td>\n",
       "    </tr>\n",
       "    <tr>\n",
       "      <th>Cam</th>\n",
       "      <td>3.0</td>\n",
       "      <td>4.0</td>\n",
       "      <td>2.0</td>\n",
       "      <td>3.0</td>\n",
       "      <td>2.0</td>\n",
       "      <td>3.0</td>\n",
       "      <td>5.0</td>\n",
       "      <td>5.0</td>\n",
       "      <td>27.0</td>\n",
       "      <td>312.0</td>\n",
       "    </tr>\n",
       "    <tr>\n",
       "      <th>Mish</th>\n",
       "      <td>2.0</td>\n",
       "      <td>1.0</td>\n",
       "      <td>1.0</td>\n",
       "      <td>2.0</td>\n",
       "      <td>3.0</td>\n",
       "      <td>2.0</td>\n",
       "      <td>3.0</td>\n",
       "      <td>2.0</td>\n",
       "      <td>16.0</td>\n",
       "      <td>297.0</td>\n",
       "    </tr>\n",
       "  </tbody>\n",
       "</table>\n",
       "</div>"
      ],
      "text/plain": [
       "        PTS  BLK  STL  AST  REB  3PTM  FG%  FT%   TOT     GP\n",
       "Jack    6.0  5.0  3.0  5.0  5.0   4.0  2.0  3.0  33.0  341.0\n",
       "Markey  1.0  6.0  6.0  6.0  6.0   1.0  6.0  1.0  33.0  316.0\n",
       "Toby    5.0  3.0  4.0  1.0  4.0   5.0  4.0  6.0  32.0  335.0\n",
       "Nick    4.0  2.0  5.0  4.0  1.0   6.0  1.0  4.0  27.0  322.0\n",
       "Cam     3.0  4.0  2.0  3.0  2.0   3.0  5.0  5.0  27.0  312.0\n",
       "Mish    2.0  1.0  1.0  2.0  3.0   2.0  3.0  2.0  16.0  297.0"
      ]
     },
     "execution_count": 3,
     "metadata": {},
     "output_type": "execute_result"
    }
   ],
   "source": [
    "# Gets the current points standings\n",
    "league = League(league_id=LEAGUE, year=YEAR, espn_s2 = ESPN_S2, swid = SWID)\n",
    "\n",
    "Jack, Toby, Nick, Mish, Cam, Markey = league.teams\n",
    "\n",
    "EMAILS = {Jack.team_id:email_jack, Toby.team_id:email_toby, Cam.team_id:email_cam, \n",
    "        Nick.team_id:email_nick, Markey.team_id:email_markey, Mish.team_id:email_mish}\n",
    "\n",
    "stats = [Jack.stats, Toby.stats, Nick.stats, Mish.stats, Cam.stats, Markey.stats]\n",
    "leaderboard = pd.DataFrame(stats)\n",
    "leaderboard.index = ['Jack', 'Toby', 'Nick', 'Mish', 'Cam', 'Markey']\n",
    "gp = leaderboard.GP\n",
    "totals = leaderboard\n",
    "points = leaderboard.drop(labels= ['GP', 'FGM', 'FGA', 'FTM', 'FTA'], axis=1).rank()\n",
    "points = pd.concat([points, points.sum(axis=1)], axis=1)\n",
    "points = points.rename(columns = {0: 'TOT'})\n",
    "points = points.sort_values(by=['TOT'], ascending=False)\n",
    "points = pd.concat([points, gp], axis = 1)\n",
    "points"
   ]
  },
  {
   "cell_type": "code",
   "execution_count": 9,
   "metadata": {},
   "outputs": [
    {
     "name": "stdout",
     "output_type": "stream",
     "text": [
      "1 The Cheese\n",
      "2 Drummond st Demons\n",
      "7 Ballarat Timberwolves\n",
      "8 Sydney Mish\n",
      "9 Brunswick Stink\n",
      "10 Canberra Marks\n"
     ]
    }
   ],
   "source": [
    "for team in league.teams:\n",
    "    print(team.team_id, team.team_name)\n"
   ]
  },
  {
   "cell_type": "code",
   "execution_count": 5,
   "metadata": {},
   "outputs": [
    {
     "name": "stdout",
     "output_type": "stream",
     "text": [
      "Injury report for: The Cheese\n",
      "\n",
      "Luka Doncic (BE) is OUT \n",
      "LeBron James (SF) is DAY_TO_DAY ... Put them in your IR or bench if you can!\n",
      "Shai Gilgeous-Alexander (PG) is DAY_TO_DAY ... Put them in your IR or bench if you can!\n",
      "Julius Randle (F) is OUT ... Put them in your IR or bench if you can!\n",
      "Mo Bamba (IR) is OUT \n",
      "Fred VanVleet (BE) is OUT \n",
      "Malcolm Brogdon (BE) is OUT \n",
      "Kyle Lowry (IR) is OUT \n",
      "Jayson Tatum (PF) is OUT ... Put them in your IR or bench if you can!\n",
      "\n",
      "Injury report for: Drummond st Demons\n",
      "\n",
      "Jimmy Butler (UT) is DAY_TO_DAY ... Put them in your IR or bench if you can!\n",
      "Anthony Davis (IR) is OUT \n",
      "Deandre Ayton (BE) is OUT \n",
      "Klay Thompson (IR) is OUT \n",
      "Jarrett Allen (BE) is OUT \n",
      "Josh Hart (F) is DAY_TO_DAY ... Put them in your IR or bench if you can!\n",
      "\n",
      "Injury report for: Ballarat Timberwolves\n",
      "\n",
      "Karl-Anthony Towns (C) is OUT ... Put them in your IR or bench if you can!\n",
      "Anthony Edwards (UT) is OUT ... Put them in your IR or bench if you can!\n",
      "D'Angelo Russell (UT) is OUT ... Put them in your IR or bench if you can!\n",
      "Cole Anthony (IR) is OUT \n",
      "Lonzo Ball (BE) is OUT \n",
      "Paul George (IR) is OUT \n",
      "Kyrie Irving (BE) is OUT \n",
      "Darius Garland (BE) is OUT \n",
      "\n",
      "Injury report for: Sydney Mish\n",
      "\n",
      "CJ McCollum (SG) is OUT ... Put them in your IR or bench if you can!\n",
      "John Collins (F) is OUT ... Put them in your IR or bench if you can!\n",
      "OG Anunoby (SF) is OUT ... Put them in your IR or bench if you can!\n",
      "Jusuf Nurkic (UT) is OUT ... Put them in your IR or bench if you can!\n",
      "\n",
      "Injury report for: Brunswick Stink\n",
      "\n",
      "Zion Williamson (IR) is OUT \n",
      "Brandon Ingram (PF) is DAY_TO_DAY ... Put them in your IR or bench if you can!\n",
      "Jerami Grant (BE) is OUT \n",
      "Bam Adebayo (IR) is OUT \n",
      "\n",
      "Injury report for: Canberra Marks\n",
      "\n",
      "Dejounte Murray (SG) is OUT ... Put them in your IR or bench if you can!\n",
      "Miles Bridges (SF) is OUT ... Put them in your IR or bench if you can!\n",
      "Draymond Green (UT) is OUT ... Put them in your IR or bench if you can!\n",
      "Cade Cunningham (PG) is OUT ... Put them in your IR or bench if you can!\n",
      "Scottie Barnes (F) is OUT ... Put them in your IR or bench if you can!\n",
      "Ben Simmons (IR) is OUT \n",
      "Josh Giddey (BE) is OUT \n",
      "\n"
     ]
    }
   ],
   "source": [
    "# Investigating 'injury report'\n",
    "for team in league.teams:\n",
    "    print(\"Injury report for:\", str(team)[5:-1], end='\\n\\n')\n",
    "    TO_EMAIL = EMAILS[team.team_id]\n",
    "    for player in team.roster:\n",
    "        if player.injuryStatus != \"ACTIVE\":\n",
    "            extraMessage = ''\n",
    "            if player.lineupSlot not in ['BE', 'IR']:\n",
    "                extraMessage = '... Put them in your IR or bench if you can!'\n",
    "            print(str(player)[7:-1] + ' (' + str(player.lineupSlot) + ') ' + 'is', player.injuryStatus, extraMessage)\n",
    "    print('')"
   ]
  },
  {
   "cell_type": "code",
   "execution_count": 31,
   "metadata": {},
   "outputs": [
    {
     "data": {
      "text/plain": [
       "{13: (9, 1634695200000),\n",
       " 15: (17, 1634686200000),\n",
       " 17: (15, 1634686200000),\n",
       " 9: (13, 1634695200000)}"
      ]
     },
     "execution_count": 31,
     "metadata": {},
     "output_type": "execute_result"
    }
   ],
   "source": [
    "dame = Toby.roster[0]\n",
    "dame.lineupSlot\n",
    "dame.proTeam"
   ]
  },
  {
   "cell_type": "code",
   "execution_count": 89,
   "metadata": {},
   "outputs": [
    {
     "name": "stdout",
     "output_type": "stream",
     "text": [
      "Damian Lillard PG... They are playing ATL today!\n",
      "Stephen Curry G... They are playing MIA today!\n",
      "Jimmy Butler UT... They are playing GSW today!\n",
      "Anthony Davis IR... \n",
      "Deandre Ayton BE... \n",
      "Tobias Harris PF... They are playing HOU today!\n",
      "Khris Middleton SF... They are playing DET today!\n",
      "Klay Thompson IR... They are playing MIA today!\n",
      "Gordon Hayward F... They are playing WAS today!\n",
      "Domantas Sabonis BE... \n",
      "Zach LaVine SG... They are playing ORL today!\n",
      "Jarrett Allen BE... \n",
      "Desmond Bane UT... They are playing BKN today!\n",
      "Marcus Morris Sr. UT... They are playing MIN today!\n",
      "Jaren Jackson Jr. C... They are playing BKN today!\n"
     ]
    }
   ],
   "source": [
    "# Get nba schedule for a given day\n",
    "import datetime\n",
    "\n",
    "first_day = datetime.date(2021, 10, 19)\n",
    "today = datetime.date.today()\n",
    "diff = today - first_day\n",
    "gameday_id = diff.days\n",
    "# http://site.api.espn.com/apis/site/v2/sports/basketball/nba/teams\n",
    "todays_games = league._get_pro_schedule(gameday_id)\n",
    "\n",
    "for player in Toby.roster:\n",
    "    print(player.name, player.lineupSlot, end = '... ')\n",
    "    team_id = PRO_TEAM_MAPPING[player.proTeam]\n",
    "    if team_id in todays_games.keys():\n",
    "        opponent_id = todays_games[team_id][0]\n",
    "        opponent_name = PRO_TEAM_MAPPING[opponent_id]\n",
    "        print('They are playing', opponent_name, 'today!')\n",
    "    else:\n",
    "        print('')\n"
   ]
  },
  {
   "cell_type": "code",
   "execution_count": 44,
   "metadata": {},
   "outputs": [
    {
     "data": {
      "text/plain": [
       "{12: (16, 1641267000000),\n",
       " 14: (9, 1641265200000),\n",
       " 15: (8, 1641258000000),\n",
       " 16: (12, 1641267000000),\n",
       " 17: (29, 1641256200000),\n",
       " 19: (4, 1641258000000),\n",
       " 20: (10, 1641254400000),\n",
       " 22: (1, 1641265200000),\n",
       " 26: (3, 1641258000000),\n",
       " 27: (30, 1641254400000),\n",
       " 29: (17, 1641256200000),\n",
       " 30: (27, 1641254400000),\n",
       " 1: (22, 1641265200000),\n",
       " 3: (26, 1641258000000),\n",
       " 4: (19, 1641258000000),\n",
       " 6: (7, 1641259800000),\n",
       " 7: (6, 1641259800000),\n",
       " 8: (15, 1641258000000),\n",
       " 9: (14, 1641265200000),\n",
       " 10: (20, 1641254400000)}"
      ]
     },
     "execution_count": 44,
     "metadata": {},
     "output_type": "execute_result"
    }
   ],
   "source": [
    "# Get nba schedule for a given day\n",
    "import datetime\n",
    "\n",
    "first_day = datetime.date(2021, 10, 19)\n",
    "today = datetime.date.today()\n",
    "diff = today - first_day\n",
    "gameday_id = diff.days\n",
    "# http://site.api.espn.com/apis/site/v2/sports/basketball/nba/teams\n",
    "league._get_pro_schedule(gameday_id)"
   ]
  },
  {
   "cell_type": "markdown",
   "metadata": {},
   "source": [
    "Next part is testing out how to email"
   ]
  },
  {
   "cell_type": "code",
   "execution_count": null,
   "metadata": {},
   "outputs": [],
   "source": [
    "def send_mail(to_mail, message):\n",
    "    from_mail = 'dailyfantasybot@gmail.com'\n",
    "    #to_mail = 'tobyprofitt1@gmail.com'\n",
    "\n",
    "    msg = MIMEMultipart()\n",
    "\n",
    "    # setup the parameters of the message\n",
    "    msg['From']=from_mail\n",
    "    msg['To']=to_mail\n",
    "    msg['Subject']=\"This is TEST\"\n",
    "\n",
    "    # add in the message body\n",
    "    msg.attach(MIMEText(message, 'plain'))\n",
    "\n",
    "    # send the message via the server set up earlier.\n",
    "    s.send_message(msg)\n",
    "        \n",
    "    del msg"
   ]
  }
 ],
 "metadata": {
  "interpreter": {
   "hash": "2104add6808cdcbe83e0e044c14a2a2ffb68e372c162dc493482b471ef999c08"
  },
  "kernelspec": {
   "display_name": "Python 3.9.0 64-bit",
   "name": "python3"
  },
  "language_info": {
   "codemirror_mode": {
    "name": "ipython",
    "version": 3
   },
   "file_extension": ".py",
   "mimetype": "text/x-python",
   "name": "python",
   "nbconvert_exporter": "python",
   "pygments_lexer": "ipython3",
   "version": "3.9.0"
  },
  "orig_nbformat": 4
 },
 "nbformat": 4,
 "nbformat_minor": 2
}
