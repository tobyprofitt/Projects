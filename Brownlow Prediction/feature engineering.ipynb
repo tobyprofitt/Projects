{
 "cells": [
  {
   "cell_type": "code",
   "execution_count": null,
   "metadata": {},
   "outputs": [],
   "source": [
    "import pandas as pd\n",
    "import numpy as np\n",
    "import matplotlib.pyplot as plt\n",
    "import seaborn as sns\n",
    "\n",
    "# import 5 different classifiers\n",
    "from sklearn.linear_model import LogisticRegression\n",
    "from sklearn.svm import SVC, LinearSVC\n",
    "from sklearn.ensemble import RandomForestClassifier\n",
    "from sklearn.neighbors import KNeighborsClassifier\n",
    "from sklearn.ensemble import GradientBoostingClassifier"
   ]
  },
  {
   "cell_type": "code",
   "execution_count": null,
   "metadata": {},
   "outputs": [],
   "source": [
    "# Load data\n",
    "df = pd.read_csv('player_stats.csv')\n",
    "features = ['Win', 'K', 'HB', 'D', 'M', 'G', 'B', 'T', 'HO', 'FF', 'FA', 'GA', 'I50', 'AF', 'SC', 'CL', 'CG', 'R50']\n",
    "simple_features = [\"Win\", \"K\", \"HB\", \"D\", \"M\", \"G\", \"B\", \"T\", \"HO\", \"FF\", \"FA\"]\n",
    "df.columns"
   ]
  },
  {
   "cell_type": "code",
   "execution_count": null,
   "metadata": {},
   "outputs": [],
   "source": [
    "# Split data into training and testing\n",
    "train = df[df['Year'] <= 2020]\n",
    "test = df[df['Year'] > 2020]"
   ]
  },
  {
   "cell_type": "code",
   "execution_count": null,
   "metadata": {},
   "outputs": [],
   "source": [
    "# create an iterator that includes all the 5 classifiers\n",
    "classifiers = [\n",
    "    LogisticRegression(),\n",
    "    SVC(),\n",
    "    RandomForestClassifier(),\n",
    "    KNeighborsClassifier(),\n",
    "    GradientBoostingClassifier()\n",
    "]"
   ]
  },
  {
   "cell_type": "code",
   "execution_count": null,
   "metadata": {},
   "outputs": [],
   "source": [
    "# Train each model of the 5 classifiers using a for loop\n",
    "for classifier in classifiers:\n",
    "    classifier.fit(train[features], train['Votes'])\n",
    "    print(classifier.__class__.__name__, classifier.score(test[features], test['Votes']))\n"
   ]
  },
  {
   "cell_type": "code",
   "execution_count": null,
   "metadata": {},
   "outputs": [],
   "source": [
    "# Predict votes\n",
    "preds = xgb.predict(test[features])"
   ]
  }
 ],
 "metadata": {
  "kernelspec": {
   "display_name": "Python 3",
   "language": "python",
   "name": "python3"
  },
  "language_info": {
   "codemirror_mode": {
    "name": "ipython",
    "version": 3
   },
   "file_extension": ".py",
   "mimetype": "text/x-python",
   "name": "python",
   "nbconvert_exporter": "python",
   "pygments_lexer": "ipython3",
   "version": "3.10.2 (tags/v3.10.2:a58ebcc, Jan 17 2022, 14:12:15) [MSC v.1929 64 bit (AMD64)]"
  },
  "orig_nbformat": 4,
  "vscode": {
   "interpreter": {
    "hash": "c7a8cc386e849d53507c66328c08418986bc7aeaf3690913744813adc9439505"
   }
  }
 },
 "nbformat": 4,
 "nbformat_minor": 2
}
