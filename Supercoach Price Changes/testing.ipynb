{
 "cells": [
  {
   "cell_type": "code",
   "execution_count": 8,
   "metadata": {},
   "outputs": [],
   "source": [
    "import pandas as pd\n",
    "import math\n",
    "MAGIC_NUMBER = 5505.74"
   ]
  },
  {
   "cell_type": "code",
   "execution_count": 2,
   "metadata": {},
   "outputs": [
    {
     "data": {
      "text/plain": [
       "''"
      ]
     },
     "execution_count": 2,
     "metadata": {},
     "output_type": "execute_result"
    }
   ],
   "source": [
    "\"\"\"\n",
    "For changes during the season, you take the player's current price. \n",
    "Divide it into fourths. Keep three fourths. \n",
    "Throw away the last fourth. \n",
    "Then, take the average of the player's last three scores and \n",
    "multiply that by the base Magic number we calculated at the season start.\n",
    "(BASE Magic Number, very important to use the base one.) \n",
    "Divide by 4.  Add that to the three fourths you saved. \n",
    "Round that to the nearest $100. That's the player's new price.\n",
    "\"\"\""
   ]
  },
  {
   "cell_type": "code",
   "execution_count": 23,
   "metadata": {},
   "outputs": [],
   "source": [
    "def calculate_new_price(current_price, last_three_scores, base_magic_number, deflation=1):\n",
    "    # Divide the current price into fourths. Keep three fourths. \n",
    "    three_fourths_price = current_price * 3 / 4\n",
    "\n",
    "    # Take the average of the player's last three scores\n",
    "    score_average = sum(last_three_scores) / 3\n",
    "\n",
    "    # Multiply that by the base Magic number\n",
    "    magic_number_product = score_average * base_magic_number\n",
    "\n",
    "    # Divide by 4\n",
    "    magic_number_product /= 4\n",
    "\n",
    "    # Add that to the three fourths you saved\n",
    "    new_price = three_fourths_price + magic_number_product\n",
    "\n",
    "    # Multiply by deflation factor\n",
    "    new_price *= deflation\n",
    "\n",
    "    # Round that to the nearest $100\n",
    "    new_price = round(new_price / 100) * 100\n",
    "\n",
    "    return new_price\n"
   ]
  },
  {
   "cell_type": "code",
   "execution_count": 26,
   "metadata": {},
   "outputs": [
    {
     "name": "stdout",
     "output_type": "stream",
     "text": [
      "Butters new price: 621600\n",
      "Clarry new price: 659700\n"
     ]
    }
   ],
   "source": [
    "butters_new_price = calculate_new_price(564_100, [125, 139, 184], 5505.74, 0.9889068172650263)\n",
    "print('Butters new price:', butters_new_price)\n",
    "\n",
    "clarry_new_price = calculate_new_price(660_100, [136, 119, 120], 5505.74, 0.9889068172650263)\n",
    "print('Clarry new price:', clarry_new_price)\n",
    "\n",
    "rozee_new_price = calculate_new_price(541_400, [104, 105, 100], 5505.74, 0.9889068172650263)\n",
    "print('Rozee new price:', rozee_new_price)"
   ]
  }
 ],
 "metadata": {
  "kernelspec": {
   "display_name": "Python 3",
   "language": "python",
   "name": "python3"
  },
  "language_info": {
   "codemirror_mode": {
    "name": "ipython",
    "version": 3
   },
   "file_extension": ".py",
   "mimetype": "text/x-python",
   "name": "python",
   "nbconvert_exporter": "python",
   "pygments_lexer": "ipython3",
   "version": "3.10.2"
  },
  "orig_nbformat": 4
 },
 "nbformat": 4,
 "nbformat_minor": 2
}
