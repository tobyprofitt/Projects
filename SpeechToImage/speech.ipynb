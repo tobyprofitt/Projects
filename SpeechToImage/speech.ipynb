{
 "cells": [
  {
   "cell_type": "code",
   "execution_count": 52,
   "metadata": {},
   "outputs": [
    {
     "name": "stdout",
     "output_type": "stream",
     "text": [
      "Recording audio...\n",
      "Audio saved to audio/audio_2023-03-03_10-13-35.wav\n"
     ]
    }
   ],
   "source": [
    "import pyaudio\n",
    "import wave\n",
    "import datetime\n",
    "\n",
    "# set up audio recording\n",
    "chunk_size = 1024  # number of audio samples per chunk\n",
    "sample_rate = 44100  # number of samples per second\n",
    "\n",
    "p = pyaudio.PyAudio()\n",
    "stream = p.open(format=pyaudio.paInt16,\n",
    "                channels=1,\n",
    "                rate=sample_rate,\n",
    "                input=True,\n",
    "                frames_per_buffer=chunk_size)\n",
    "\n",
    "# record audio for 5 seconds\n",
    "print(\"Recording audio...\")\n",
    "frames = []\n",
    "for i in range(0, int(sample_rate / chunk_size * 5)):\n",
    "    data = stream.read(chunk_size)\n",
    "    frames.append(data)\n",
    "\n",
    "# stop recording and save audio to file\n",
    "stream.stop_stream()\n",
    "stream.close()\n",
    "p.terminate()\n",
    "\n",
    "now = datetime.datetime.now().strftime(\"%Y-%m-%d_%H-%M-%S\")\n",
    "filename = f\"audio/audio_{now}.wav\"\n",
    "\n",
    "wf = wave.open(filename, 'wb')\n",
    "wf.setnchannels(1)\n",
    "wf.setsampwidth(p.get_sample_size(pyaudio.paInt16))\n",
    "wf.setframerate(sample_rate)\n",
    "wf.writeframes(b''.join(frames))\n",
    "wf.close()\n",
    "\n",
    "print(f\"Audio saved to {filename}\")\n"
   ]
  },
  {
   "cell_type": "code",
   "execution_count": 53,
   "metadata": {},
   "outputs": [
    {
     "name": "stdout",
     "output_type": "stream",
     "text": [
      "result2:\n",
      "{   'alternative': [{'confidence': 0.95641035, 'transcript': 'this is a test'}],\n",
      "    'final': True}\n",
      "Transcription: this is a test\n"
     ]
    }
   ],
   "source": [
    "import speech_recognition as sr\n",
    "import wave\n",
    "r = sr.Recognizer()\n",
    "\n",
    "# load audio file\n",
    "# filename = \"taunt.wav\"\n",
    "with wave.open(filename, 'rb') as wf:\n",
    "    sr1 = wf.getframerate()\n",
    "    n_channels = wf.getnchannels()\n",
    "    sample_width = wf.getsampwidth()\n",
    "    n_frames = wf.getnframes()\n",
    "    audio = wf.readframes(n_frames)\n",
    "\n",
    "# convert audio to text\n",
    "with sr.AudioFile(filename) as source:\n",
    "    audio = r.record(source)\n",
    "\n",
    "text = r.recognize_google(audio)\n",
    "\n",
    "print(f\"Transcription: {text}\")\n"
   ]
  },
  {
   "cell_type": "code",
   "execution_count": 54,
   "metadata": {},
   "outputs": [],
   "source": [
    "# Text to image prompt\n",
    "chatgpt_request = f\"\"\"Can you create a prompt for a text-to-image model from the following:\n",
    "\n",
    "\"{text}, unreal engine\"\n",
    "\n",
    "Please only reply with the prompt and nothing else.\"\"\""
   ]
  },
  {
   "cell_type": "code",
   "execution_count": 55,
   "metadata": {},
   "outputs": [
    {
     "name": "stdout",
     "output_type": "stream",
     "text": [
      "Can you create a prompt for a text-to-image model from the following:\n",
      "\n",
      "\"this is a test, unreal engine\"\n",
      "\n",
      "Please only reply with the prompt and nothing else.\n"
     ]
    }
   ],
   "source": [
    "print(chatgpt_request)"
   ]
  },
  {
   "cell_type": "code",
   "execution_count": null,
   "metadata": {},
   "outputs": [],
   "source": []
  }
 ],
 "metadata": {
  "kernelspec": {
   "display_name": "Python 3.7.9 64-bit",
   "language": "python",
   "name": "python3"
  },
  "language_info": {
   "codemirror_mode": {
    "name": "ipython",
    "version": 3
   },
   "file_extension": ".py",
   "mimetype": "text/x-python",
   "name": "python",
   "nbconvert_exporter": "python",
   "pygments_lexer": "ipython3",
   "version": "3.7.9"
  },
  "orig_nbformat": 4,
  "vscode": {
   "interpreter": {
    "hash": "4b6ae6f2cb7de6a41e3fc1c901fff18bdf4f8e058d396cbde356e323499d071f"
   }
  }
 },
 "nbformat": 4,
 "nbformat_minor": 2
}
